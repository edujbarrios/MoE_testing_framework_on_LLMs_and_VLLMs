{
 "cells": [
  {
   "cell_type": "markdown",
   "metadata": {},
   "source": [
    "# Procesamiento de Imágenes con MoE - Análisis Detallado\n",
    "\n",
    "Este notebook proporciona un análisis profundo del procesamiento de imágenes usando la arquitectura Mixture of Experts (MoE)."
   ]
  },
  {
   "cell_type": "code",
   "execution_count": null,
   "metadata": {},
   "source": [
    "import sys\n",
    "sys.path.append('..')\n",
    "\n",
    "from image_processing.image_moe import ImageMoE\n",
    "from utils.dashboard import ComplexityDashboard\n",
    "import numpy as np\n",
    "import matplotlib.pyplot as plt\n",
    "from rich.console import Console\n",
    "\n",
    "console = Console()"
   ]
  },
  {
   "cell_type": "markdown",
   "metadata": {},
   "source": [
    "## 1. Generación de Patrones de Prueba\n",
    "\n",
    "Creamos diferentes patrones de imagen para probar la capacidad de especialización de los expertos."
   ]
  },
  {
   "cell_type": "code",
   "execution_count": null,
   "metadata": {},
   "source": [
    "def generate_test_patterns(size=32):\n",
    "    patterns = {\n",
    "        'uniform': np.ones((size, size)) * 0.5,  # Patrón uniforme\n",
    "        'gradient': np.linspace(0, 1, size).reshape(-1, 1) * np.ones((1, size)),  # Gradiente\n",
    "        'checkerboard': np.indices((size, size)).sum(axis=0) % 2,  # Tablero de ajedrez\n",
    "        'noise': np.random.rand(size, size),  # Ruido aleatorio\n",
    "        'circle': np.fromfunction(\n",
    "            lambda i, j: ((i-size/2)**2 + (j-size/2)**2 < (size/3)**2),\n",
    "            (size, size)\n",
    "        ).astype(float)  # Círculo\n",
    "    }\n",
    "    return patterns\n",
    "\n",
    "# Generar y visualizar patrones\n",
    "patterns = generate_test_patterns()\n",
    "fig, axes = plt.subplots(1, len(patterns), figsize=(20, 4))\n",
    "\n",
    "for ax, (name, pattern) in zip(axes, patterns.items()):\n",
    "    ax.imshow(pattern, cmap='gray')\n",
    "    ax.set_title(name.capitalize())\n",
    "    ax.axis('off')\n",
    "\n",
    "plt.tight_layout()\n",
    "plt.show()"
   ]
  },
  {
   "cell_type": "markdown",
   "metadata": {},
   "source": [
    "## 2. Análisis de Complejidad Regional\n",
    "\n",
    "Analizamos cómo el MoE procesa diferentes regiones de las imágenes."
   ]
  },
  {
   "cell_type": "code",
   "execution_count": null,
   "metadata": {},
   "source": [
    "def analyze_pattern(pattern_name, image_data, moe):\n",
    "    print(f\"\\nAnalizando patrón: {pattern_name}\")\n",
    "    \n",
    "    # Procesar imagen\n",
    "    result = moe.process(image_data)\n",
    "    \n",
    "    # Crear mapa de expertos\n",
    "    expert_map = np.zeros_like(image_data)\n",
    "    for i in range(0, image_data.shape[0], 8):\n",
    "        for j in range(0, image_data.shape[1], 8):\n",
    "            region = image_data[i:min(i+8, image_data.shape[0]),\n",
    "                               j:min(j+8, image_data.shape[1])]\n",
    "            features = moe._get_region_features(region)\n",
    "            expert_weights = moe._get_expert_weights(features)\n",
    "            expert = np.argmax(expert_weights)\n",
    "            expert_map[i:i+8, j:j+8] = expert\n",
    "    \n",
    "    # Visualizar resultados\n",
    "    fig, (ax1, ax2) = plt.subplots(1, 2, figsize=(12, 4))\n",
    "    \n",
    "    ax1.imshow(image_data, cmap='gray')\n",
    "    ax1.set_title('Imagen Original')\n",
    "    ax1.axis('off')\n",
    "    \n",
    "    im = ax2.imshow(expert_map, cmap='viridis')\n",
    "    ax2.set_title('Asignación de Expertos')\n",
    "    ax2.axis('off')\n",
    "    plt.colorbar(im, ax=ax2)\n",
    "    \n",
    "    plt.tight_layout()\n",
    "    plt.show()\n",
    "    \n",
    "    # Mostrar estadísticas\n",
    "    unique, counts = np.unique(expert_map, return_counts=True)\n",
    "    total = np.prod(expert_map.shape)\n",
    "    \n",
    "    print(\"\\nDistribución de expertos:\")\n",
    "    for expert, count in zip(unique, counts):\n",
    "        percentage = (count / total) * 100\n",
    "        print(f\"Expert {int(expert)}: {count} píxeles ({percentage:.1f}%)\")\n",
    "\n",
    "# Analizar cada patrón\n",
    "moe = ImageMoE(num_experts=4)\n",
    "for name, pattern in patterns.items():\n",
    "    analyze_pattern(name, pattern, moe)"
   ]
  },
  {
   "cell_type": "markdown",
   "metadata": {},
   "source": [
    "## 3. Métricas de Rendimiento\n",
    "\n",
    "Evaluamos el rendimiento del MoE en términos de tiempo de procesamiento y confianza."
   ]
  },
  {
   "cell_type": "code",
   "execution_count": null,
   "metadata": {},
   "source": [
    "import time\n",
    "def evaluate_performance(patterns, num_iterations=10):\n",
    "    processing_times = []\n",
    "    complexities = []\n",
    "    \n",
    "    for _ in range(num_iterations):\n",
    "        for name, pattern in patterns.items():\n",
    "            start_time = time.perf_counter()\n",
    "            moe.process(pattern)\n",
    "            end_time = time.perf_counter()\n",
    "            \n",
    "            processing_times.append(end_time - start_time)\n",
    "            complexity = moe._compute_complexity(pattern)\n",
    "            complexities.append(complexity)\n",
    "    \n",
    "    # Visualizar resultados\n",
    "    fig, (ax1, ax2) = plt.subplots(1, 2, figsize=(12, 4))\n",
    "    \n",
    "    # Tiempos de procesamiento\n",
    "    ax1.hist(np.array(processing_times) * 1000, bins=20)\n",
    "    ax1.set_title('Distribución de Tiempos de Procesamiento')\n",
    "    ax1.set_xlabel('Tiempo (ms)')\n",
    "    ax1.set_ylabel('Frecuencia')\n",
    "    \n",
    "    # Complejidad\n",
    "    ax2.hist(complexities, bins=20)\n",
    "    ax2.set_title('Distribución de Complejidad')\n",
    "    ax2.set_xlabel('Complejidad')\n",
    "    ax2.set_ylabel('Frecuencia')\n",
    "    \n",
    "    plt.tight_layout()\n",
    "    plt.show()\n",
    "    \n",
    "    # Mostrar estadísticas\n",
    "    print(\"\\nEstadísticas de rendimiento:\")\n",
    "    print(f\"Tiempo promedio: {np.mean(processing_times)*1000:.2f} ms\")\n",
    "    print(f\"Desviación estándar: {np.std(processing_times)*1000:.2f} ms\")\n",
    "    print(f\"Complejidad promedio: {np.mean(complexities):.2f}\")\n",
    "\n",
    "evaluate_performance(patterns)"
   ]
  },
  {
   "cell_type": "markdown",
   "metadata": {},
   "source": [
    "## 4. Conclusiones\n",
    "\n",
    "Este análisis demuestra cómo el MoE:\n",
    "1. Asigna diferentes expertos según las características de la región\n",
    "2. Maneja eficientemente diferentes tipos de patrones\n",
    "3. Mantiene un rendimiento consistente en términos de tiempo de procesamiento\n",
    "\n",
    "Los expertos se especializan en:\n",
    "- Regiones uniformes oscuras\n",
    "- Regiones uniformes brillantes\n",
    "- Detección de bordes\n",
    "- Análisis de texturas complejas"
   ]
  }
 ],
 "metadata": {
  "kernelspec": {
   "display_name": "Python 3",
   "language": "python",
   "name": "python3"
  }
 },
 "nbformat": 4,
 "nbformat_minor": 2
}