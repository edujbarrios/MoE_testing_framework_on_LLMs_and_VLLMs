{
 "cells": [
  {
   "cell_type": "markdown",
   "metadata": {},
   "source": [
    "# Mixture of Experts (MoE) - Conceptos Fundamentales\n",
    "\n",
    "Este notebook introduce los conceptos clave de la arquitectura Mixture of Experts (MoE) y su implementación en el proyecto."
   ]
  },
  {
   "cell_type": "code",
   "execution_count": null,
   "metadata": {},
   "source": [
    "import sys\n",
    "sys.path.append('..')\n",
    "\n",
    "from moe_variants.switched_moe import SwitchedMoE\n",
    "from utils.dashboard import ComplexityDashboard\n",
    "import numpy as np\n",
    "import matplotlib.pyplot as plt"
   ]
  },
  {
   "cell_type": "markdown",
   "metadata": {},
   "source": [
    "## 1. Arquitectura MoE\n",
    "\n",
    "### Componentes Principales:\n",
    "1. Expertos: Modelos especializados en diferentes aspectos de los datos\n",
    "2. Router: Sistema que dirige las entradas al experto más apropiado\n",
    "3. Combinador: Integra las salidas de los expertos (en algunas variantes)\n",
    "\n",
    "En este proyecto usamos una variante 'switched', donde cada entrada se dirige a un único experto."
   ]
  },
  {
   "cell_type": "code",
   "execution_count": null,
   "metadata": {},
   "source": [
    "# Inicializar MoE y Dashboard\n",
    "moe = SwitchedMoE(num_experts=3, complexity_threshold=0.6)\n",
    "dashboard = ComplexityDashboard()\n",
    "\n",
    "# Mostrar configuración\n",
    "metrics = moe.get_metrics()\n",
    "print(\"Configuración del MoE:\")\n",
    "print(f\"Número de expertos: {moe.num_experts}\")\n",
    "print(f\"Umbral de complejidad: {metrics['complexity_threshold']}\")\n",
    "\n",
    "print(\"\\nDescripción de expertos:\")\n",
    "for expert_id, description in metrics['expert_descriptions'].items():\n",
    "    print(f\"Expert {expert_id}: {description}\")"
   ]
  },
  {
   "cell_type": "markdown",
   "metadata": {},
   "source": [
    "## 2. Análisis de Complejidad\n",
    "\n",
    "El MoE utiliza métricas de complejidad para decidir qué experto debe procesar cada entrada."
   ]
  },
  {
   "cell_type": "code",
   "execution_count": null,
   "metadata": {},
   "source": [
    "def analyze_complexity(inputs):\n",
    "    results = []\n",
    "    for input_data in inputs:\n",
    "        complexity = moe._compute_complexity(input_data)\n",
    "        expert = moe.route(input_data)\n",
    "        confidence = 1.0 - min([\n",
    "            abs(complexity - t) \n",
    "            for t in [metrics['complexity_threshold']*0.33, \n",
    "                     metrics['complexity_threshold']*0.66]\n",
    "        ]) / metrics['complexity_threshold']\n",
    "        \n",
    "        results.append({\n",
    "            'input': input_data,\n",
    "            'complexity': complexity,\n",
    "            'expert': expert,\n",
    "            'confidence': confidence\n",
    "        })\n",
    "        \n",
    "        # Actualizar dashboard\n",
    "        dashboard.update_metrics('text_complexity', complexity)\n",
    "        dashboard.update_metrics('expert_assignment', expert)\n",
    "    \n",
    "    return results\n",
    "\n",
    "# Ejemplos con diferentes niveles de complejidad\n",
    "test_inputs = [\n",
    "    \"The\",                     # Simple\n",
    "    \"Python\",                  # Medio\n",
    "    \"Programming\",             # Medio-Alto\n",
    "    \"AI and ML\",              # Medio con tokens cortos\n",
    "    \"@#$%^&*\",                # Alto por caracteres especiales\n",
    "    \"Supercalifragilistic\",   # Alto por longitud\n",
    "]\n",
    "\n",
    "results = analyze_complexity(test_inputs)\n",
    "\n",
    "# Visualizar resultados\n",
    "complexities = [r['complexity'] for r in results]\n",
    "experts = [r['expert'] for r in results]\n",
    "confidences = [r['confidence'] for r in results]\n",
    "\n",
    "fig, (ax1, ax2) = plt.subplots(1, 2, figsize=(15, 5))\n",
    "\n",
    "# Gráfico de complejidad vs experto\n",
    "scatter = ax1.scatter(complexities, experts, c=confidences, \n",
    "                     cmap='viridis', s=100)\n",
    "ax1.set_xlabel('Complejidad')\n",
    "ax1.set_ylabel('Experto Asignado')\n",
    "ax1.set_title('Asignación de Expertos por Complejidad')\n",
    "plt.colorbar(scatter, ax=ax1, label='Confianza')\n",
    "\n",
    "# Distribución de complejidad\n",
    "ax2.hist(complexities, bins=10)\n",
    "ax2.axvline(metrics['complexity_threshold']*0.33, \n",
    "            color='r', linestyle='--', label='Umbral Simple-Medio')\n",
    "ax2.axvline(metrics['complexity_threshold']*0.66, \n",
    "            color='g', linestyle='--', label='Umbral Medio-Complejo')\n",
    "ax2.set_xlabel('Complejidad')\n",
    "ax2.set_ylabel('Frecuencia')\n",
    "ax2.set_title('Distribución de Complejidad')\n",
    "ax2.legend()\n",
    "\n",
    "plt.tight_layout()\n",
    "plt.show()\n",
    "\n",
    "# Mostrar detalles\n",
    "print(\"\\nAnálisis detallado:\")\n",
    "for r in results:\n",
    "    print(f\"\\nEntrada: {r['input']}\")\n",
    "    print(f\"Complejidad: {r['complexity']:.2f}\")\n",
    "    print(f\"Experto asignado: {r['expert']}\")\n",
    "    print(f\"Confianza: {r['confidence']:.2f}\")"
   ]
  },
  {
   "cell_type": "markdown",
   "metadata": {},
   "source": [
    "## 3. Monitoreo en Tiempo Real\n",
    "\n",
    "El proyecto incluye un dashboard interactivo para monitorear el comportamiento del MoE."
   ]
  },
  {
   "cell_type": "code",
   "execution_count": null,
   "metadata": {},
   "source": [
    "# Simular procesamiento continuo\n",
    "def simulate_continuous_processing(num_samples=50):\n",
    "    chars = 'abcdefghijklmnopqrstuvwxyzABCDEFGHIJKLMNOPQRSTUVWXYZ0123456789@#$%'\n",
    "    \n",
    "    for _ in range(num_samples):\n",
    "        # Generar entrada aleatoria\n",
    "        length = np.random.randint(1, 20)\n",
    "        text = ''.join(np.random.choice(list(chars), size=length))\n",
    "        \n",
    "        # Procesar y actualizar métricas\n",
    "        complexity = moe._compute_complexity(text)\n",
    "        expert = moe.route(text)\n",
    "        \n",
    "        dashboard.update_metrics('text_complexity', complexity)\n",
    "        dashboard.update_metrics('expert_assignment', expert)\n",
    "        dashboard.update_metrics('processing_time', np.random.random() * 0.01)\n",
    "        \n",
    "        plt.pause(0.1)  # Breve pausa para visualización\n",
    "\n",
    "# Iniciar simulación\n",
    "simulate_continuous_processing()"
   ]
  },
  {
   "cell_type": "markdown",
   "metadata": {},
   "source": [
    "## 4. Conclusiones\n",
    "\n",
    "El MoE demuestra:\n",
    "1. Especialización efectiva basada en complejidad\n",
    "2. Asignación consistente de expertos\n",
    "3. Alto nivel de confianza en las decisiones\n",
    "\n",
    "Esta arquitectura es especialmente útil en:\n",
    "- Procesamiento de lenguaje natural (LLMs)\n",
    "- Análisis de imágenes (ViT)\n",
    "- Tareas que requieren diferentes niveles de especialización"
   ]
  }
 ],
 "metadata": {
  "kernelspec": {
   "display_name": "Python 3",
   "language": "python",
   "name": "python3"
  }
 },
 "nbformat": 4,
 "nbformat_minor": 2
}